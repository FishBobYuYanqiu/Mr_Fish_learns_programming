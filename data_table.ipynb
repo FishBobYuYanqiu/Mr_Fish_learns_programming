{
 "cells": [
  {
   "cell_type": "markdown",
   "metadata": {},
   "source": [
    "# 沸习先生学习R之data.table"
   ]
  },
  {
   "cell_type": "markdown",
   "metadata": {},
   "source": [
    "  话说沸习先生这两天进行基因组的数据处理，第一次遇到比较大的数据，遇到了一个情况是需要把两个表格融合（merge）在一起，用基因可能不好解释，那我就用常见的事物来解释：大概可以理解为每一个人都有一个名字，而每个人又有身高、体重、籍贯、兴趣爱好等；而我相当于把每个人都算了一个值，得到一个表格（姓名-值），现在，我需要把身高、体重等等信息加进去。总共50w行数据，自然不能直接检索，于是我想到了哈希表，刚开始用的R，我就在R里面用hash包来完成，可是即使用哈希表之后，我发现merge也需要50h！之后我又在python里面用一模一样的方法写了一遍，用的是python里面的字典，这一次只用了1min！我的心里开始犯嘀咕：知乎上到处流传的R很慢果然是真的，R这个low货！"
   ]
  },
  {
   "cell_type": "markdown",
   "metadata": {},
   "source": [
    "过了几天一个更大的数据过来了（130w），我突然想到之前在coursera的JHU的R课程上面提起过相对于data.frame，R有一个更强大的数据类型（也是一个包）data.table，于是闲来无事上网查了data.table的用法，发现里面有现成的merge函数，而且设置了key值之后一句话足矣，最重要的是130w行的数据只要不到4s！真是啪啪啪打脸打得疼：原来我只是不会用R而已。\n",
    "    好，接下来沸习先生来总结一下data.table的用法。"
   ]
  },
  {
   "cell_type": "code",
   "execution_count": 1,
   "metadata": {},
   "outputs": [
    {
     "name": "stdout",
     "output_type": "stream",
     "text": [
      "\n",
      "  There is a binary version available but the source version is later:\n",
      "             binary   source needs_compilation\n",
      "data.table 1.10.4-2 1.10.4-3              TRUE\n",
      "\n"
     ]
    },
    {
     "name": "stderr",
     "output_type": "stream",
     "text": [
      "installing the source package ‘data.table’\n",
      "\n"
     ]
    }
   ],
   "source": [
    "# 首先，安装和调用data.table包\n",
    "install.packages(\"data.table\")\n",
    "library(data.table)"
   ]
  },
  {
   "cell_type": "markdown",
   "metadata": {},
   "source": [
    "## 一、创建data.table数据类型"
   ]
  },
  {
   "cell_type": "markdown",
   "metadata": {},
   "source": [
    "### 1. data.frame类似的方法创建；"
   ]
  },
  {
   "cell_type": "code",
   "execution_count": 4,
   "metadata": {},
   "outputs": [
    {
     "name": "stdout",
     "output_type": "stream",
     "text": [
      "         name score\n",
      "1:     Li Lei    59\n",
      "2: Han Meimei    95\n"
     ]
    }
   ],
   "source": [
    "# data.table和data.frame类似，都可以用data.table/frame(向量名1=向量1，向量名2=向量2，...)的方法创建\n",
    "dt1<-data.table(name=c(\"Li Lei\",\"Han Meimei\"),score=c(59,95))\n",
    "print(dt1)"
   ]
  },
  {
   "cell_type": "markdown",
   "metadata": {},
   "source": [
    "### 2.data.frame转化为data.table"
   ]
  },
  {
   "cell_type": "code",
   "execution_count": 7,
   "metadata": {},
   "outputs": [
    {
     "name": "stdout",
     "output_type": "stream",
     "text": [
      "        name score\n",
      "1: Xiao Hong    75\n",
      "2: Xiao Fang    90\n"
     ]
    }
   ],
   "source": [
    "# data.table(数据框)可以直接创建data.table\n",
    "df2<-data.frame(name=c(\"Xiao Hong\",\"Xiao Fang\"),score=c(75,90))\n",
    "dt2<-data.table(df2)\n",
    "print(dt2)"
   ]
  },
  {
   "cell_type": "markdown",
   "metadata": {},
   "source": [
    "### 3.fread方法"
   ]
  },
  {
   "cell_type": "markdown",
   "metadata": {},
   "source": [
    "fread真的是神器！真的超级快，跟read.delim(),read.csv()之类的不是一个数量级的！我读了一个接近200M的文件只要3s，而且它可以自己推断出文件是什么分隔的，也就是说以后不用辛苦调sep参数或者辛苦记是read.table()还是read.delim()之类的了，一个fread全搞定，而且stringAsFactor默认FALSE，这点对于读很多行非常重要，还记得很多次用read.csv()忘了设置这个参数导致读几分钟也出不来，stop停不下来最后卡住重启R的厄运。"
   ]
  },
  {
   "cell_type": "code",
   "execution_count": 12,
   "metadata": {},
   "outputs": [
    {
     "name": "stdout",
     "output_type": "stream",
     "text": [
      "time for fread: 1.280952 \n",
      "time for read.delim: 16.19026"
     ]
    }
   ],
   "source": [
    "# fread可以将表格文件转化为data.table\n",
    "setwd(\"~/Documents/code/GSEA/GSEA/processing\")\n",
    "t1<-Sys.time()\n",
    "inst<-fread(\"GSE92742_Broad_LINCS_inst_info.txt\")\n",
    "t2<-Sys.time()\n",
    "cat(\"time for fread:\",t2-t1,\"\\n\")\n",
    "t1<-Sys.time()\n",
    "inst2<-read.delim(\"GSE92742_Broad_LINCS_inst_info.txt\",stringsAsFactors=F)\n",
    "t2<-Sys.time()\n",
    "cat(\"time for read.delim:\",t2-t1)"
   ]
  },
  {
   "cell_type": "markdown",
   "metadata": {},
   "source": [
    "## 二、data.table的一些操作"
   ]
  },
  {
   "cell_type": "markdown",
   "metadata": {},
   "source": [
    "### 1.基本操作"
   ]
  },
  {
   "cell_type": "code",
   "execution_count": 13,
   "metadata": {},
   "outputs": [
    {
     "name": "stdout",
     "output_type": "stream",
     "text": [
      "Classes ‘data.table’ and 'data.frame':\t1319138 obs. of  11 variables:\n",
      " $ inst_id       : chr  \"ASG001_MCF7_24H_X1_B7_DUO52HI53LO:F13\" \"ASG001_MCF7_24H_X1_B7_DUO52HI53LO:G13\" \"ASG001_MCF7_24H_X1_B7_DUO52HI53LO:I13\" \"ASG001_MCF7_24H_X1_B7_DUO52HI53LO:K13\" ...\n",
      " $ rna_plate     : chr  \"ASG001_MCF7_24H_X1\" \"ASG001_MCF7_24H_X1\" \"ASG001_MCF7_24H_X1\" \"ASG001_MCF7_24H_X1\" ...\n",
      " $ rna_well      : chr  \"F13\" \"G13\" \"I13\" \"K13\" ...\n",
      " $ pert_id       : chr  \"DMSO\" \"DMSO\" \"DMSO\" \"DMSO\" ...\n",
      " $ pert_iname    : chr  \"DMSO\" \"DMSO\" \"DMSO\" \"DMSO\" ...\n",
      " $ pert_type     : chr  \"ctl_vehicle\" \"ctl_vehicle\" \"ctl_vehicle\" \"ctl_vehicle\" ...\n",
      " $ pert_dose     : num  0.1 0.1 0.1 0.1 0.1 0.1 0.1 0.1 0.1 0.1 ...\n",
      " $ pert_dose_unit: chr  \"%\" \"%\" \"%\" \"%\" ...\n",
      " $ pert_time     : int  24 24 24 24 24 24 24 24 24 24 ...\n",
      " $ pert_time_unit: chr  \"h\" \"h\" \"h\" \"h\" ...\n",
      " $ cell_id       : chr  \"MCF7\" \"MCF7\" \"MCF7\" \"MCF7\" ...\n",
      " - attr(*, \".internal.selfref\")=<externalptr> \n"
     ]
    }
   ],
   "source": [
    "# 和data.frame有类似的操作，比如dim(),nrow(),ncol()获得行数、列数；colnames(),rownames()获得行名、列名，通过赋值还可以修改行名、列名；\n",
    "# rowMeans()和colMeans()获得行平均数和列平均数；summary()和str()可以看data.table的大致情况\n",
    "str(inst)"
   ]
  },
  {
   "cell_type": "markdown",
   "metadata": {},
   "source": [
    "### 2. subset"
   ]
  },
  {
   "cell_type": "code",
   "execution_count": 15,
   "metadata": {},
   "outputs": [
    {
     "data": {
      "text/html": [
       "<table>\n",
       "<thead><tr><th scope=col>name</th><th scope=col>score</th></tr></thead>\n",
       "<tbody>\n",
       "\t<tr><td>Li Lei</td><td>59    </td></tr>\n",
       "</tbody>\n",
       "</table>\n"
      ],
      "text/latex": [
       "\\begin{tabular}{r|ll}\n",
       " name & score\\\\\n",
       "\\hline\n",
       "\t Li Lei & 59    \\\\\n",
       "\\end{tabular}\n"
      ],
      "text/markdown": [
       "\n",
       "name | score | \n",
       "|---|\n",
       "| Li Lei | 59     | \n",
       "\n",
       "\n"
      ],
      "text/plain": [
       "  name   score\n",
       "1 Li Lei 59   "
      ]
     },
     "metadata": {},
     "output_type": "display_data"
    },
    {
     "data": {
      "text/html": [
       "<table>\n",
       "<thead><tr><th scope=col>name</th><th scope=col>score</th></tr></thead>\n",
       "<tbody>\n",
       "\t<tr><td>Li Lei</td><td>59    </td></tr>\n",
       "</tbody>\n",
       "</table>\n"
      ],
      "text/latex": [
       "\\begin{tabular}{r|ll}\n",
       " name & score\\\\\n",
       "\\hline\n",
       "\t Li Lei & 59    \\\\\n",
       "\\end{tabular}\n"
      ],
      "text/markdown": [
       "\n",
       "name | score | \n",
       "|---|\n",
       "| Li Lei | 59     | \n",
       "\n",
       "\n"
      ],
      "text/plain": [
       "  name   score\n",
       "1 Li Lei 59   "
      ]
     },
     "metadata": {},
     "output_type": "display_data"
    },
    {
     "data": {
      "text/html": [
       "<table>\n",
       "<thead><tr><th scope=col>inst_id</th><th scope=col>rna_plate</th><th scope=col>rna_well</th><th scope=col>pert_id</th><th scope=col>pert_iname</th><th scope=col>pert_type</th><th scope=col>pert_dose</th><th scope=col>pert_dose_unit</th><th scope=col>pert_time</th><th scope=col>pert_time_unit</th><th scope=col>cell_id</th></tr></thead>\n",
       "<tbody>\n",
       "\t<tr><td>ASG001_MCF7_24H_X1_B7_DUO52HI53LO:F13</td><td>ASG001_MCF7_24H_X1                   </td><td>F13                                  </td><td>DMSO                                 </td><td>DMSO                                 </td><td>ctl_vehicle                          </td><td>0.1                                  </td><td>%                                    </td><td>24                                   </td><td>h                                    </td><td>MCF7                                 </td></tr>\n",
       "\t<tr><td>ASG001_MCF7_24H_X1_B7_DUO52HI53LO:G13</td><td>ASG001_MCF7_24H_X1                   </td><td>G13                                  </td><td>DMSO                                 </td><td>DMSO                                 </td><td>ctl_vehicle                          </td><td>0.1                                  </td><td>%                                    </td><td>24                                   </td><td>h                                    </td><td>MCF7                                 </td></tr>\n",
       "</tbody>\n",
       "</table>\n"
      ],
      "text/latex": [
       "\\begin{tabular}{r|lllllllllll}\n",
       " inst\\_id & rna\\_plate & rna\\_well & pert\\_id & pert\\_iname & pert\\_type & pert\\_dose & pert\\_dose\\_unit & pert\\_time & pert\\_time\\_unit & cell\\_id\\\\\n",
       "\\hline\n",
       "\t ASG001\\_MCF7\\_24H\\_X1\\_B7\\_DUO52HI53LO:F13 & ASG001\\_MCF7\\_24H\\_X1                        & F13                                             & DMSO                                            & DMSO                                            & ctl\\_vehicle                                   & 0.1                                             & \\%                                             & 24                                              & h                                               & MCF7                                           \\\\\n",
       "\t ASG001\\_MCF7\\_24H\\_X1\\_B7\\_DUO52HI53LO:G13 & ASG001\\_MCF7\\_24H\\_X1                        & G13                                             & DMSO                                            & DMSO                                            & ctl\\_vehicle                                   & 0.1                                             & \\%                                             & 24                                              & h                                               & MCF7                                           \\\\\n",
       "\\end{tabular}\n"
      ],
      "text/markdown": [
       "\n",
       "inst_id | rna_plate | rna_well | pert_id | pert_iname | pert_type | pert_dose | pert_dose_unit | pert_time | pert_time_unit | cell_id | \n",
       "|---|---|\n",
       "| ASG001_MCF7_24H_X1_B7_DUO52HI53LO:F13 | ASG001_MCF7_24H_X1                    | F13                                   | DMSO                                  | DMSO                                  | ctl_vehicle                           | 0.1                                   | %                                     | 24                                    | h                                     | MCF7                                  | \n",
       "| ASG001_MCF7_24H_X1_B7_DUO52HI53LO:G13 | ASG001_MCF7_24H_X1                    | G13                                   | DMSO                                  | DMSO                                  | ctl_vehicle                           | 0.1                                   | %                                     | 24                                    | h                                     | MCF7                                  | \n",
       "\n",
       "\n"
      ],
      "text/plain": [
       "  inst_id                               rna_plate          rna_well pert_id\n",
       "1 ASG001_MCF7_24H_X1_B7_DUO52HI53LO:F13 ASG001_MCF7_24H_X1 F13      DMSO   \n",
       "2 ASG001_MCF7_24H_X1_B7_DUO52HI53LO:G13 ASG001_MCF7_24H_X1 G13      DMSO   \n",
       "  pert_iname pert_type   pert_dose pert_dose_unit pert_time pert_time_unit\n",
       "1 DMSO       ctl_vehicle 0.1       %              24        h             \n",
       "2 DMSO       ctl_vehicle 0.1       %              24        h             \n",
       "  cell_id\n",
       "1 MCF7   \n",
       "2 MCF7   "
      ]
     },
     "metadata": {},
     "output_type": "display_data"
    }
   ],
   "source": [
    "# subset行是在第一个维度上面进行操作：dt[2:5,]或者是dt[2:5]，也可以用logical indexing：dt[dt$colume满足某个condition,]也可以直接\n",
    "# dt[colume满足某个condition],如果满足多个条件：&连接；%in%也是一个很有用的逻辑判断符：\n",
    "dt1[1]\n",
    "dt1[name==\"Li Lei\"]\n",
    "inst[inst_id %in% c(\"ASG001_MCF7_24H_X1_B7_DUO52HI53LO:F13\",\"ASG001_MCF7_24H_X1_B7_DUO52HI53LO:G13\")]"
   ]
  },
  {
   "cell_type": "code",
   "execution_count": 19,
   "metadata": {},
   "outputs": [
    {
     "data": {
      "text/html": [
       "3613"
      ],
      "text/latex": [
       "3613"
      ],
      "text/markdown": [
       "3613"
      ],
      "text/plain": [
       "[1] 3613"
      ]
     },
     "metadata": {},
     "output_type": "display_data"
    },
    {
     "data": {
      "text/html": [
       "<table>\n",
       "<thead><tr><th scope=col>n_cell</th><th scope=col>n_plate</th></tr></thead>\n",
       "<tbody>\n",
       "\t<tr><td>76  </td><td>3613</td></tr>\n",
       "</tbody>\n",
       "</table>\n"
      ],
      "text/latex": [
       "\\begin{tabular}{r|ll}\n",
       " n\\_cell & n\\_plate\\\\\n",
       "\\hline\n",
       "\t 76   & 3613\\\\\n",
       "\\end{tabular}\n"
      ],
      "text/markdown": [
       "\n",
       "n_cell | n_plate | \n",
       "|---|\n",
       "| 76   | 3613 | \n",
       "\n",
       "\n"
      ],
      "text/plain": [
       "  n_cell n_plate\n",
       "1 76     3613   "
      ]
     },
     "metadata": {},
     "output_type": "display_data"
    }
   ],
   "source": [
    "# subset列是在第二个维度上进行操作：dt[,col]（返回向量）,dt[,.(col)]（返回data.table）,dt[,.(col1,col2)],dt[row,col]\n",
    "# dt[col满足条件，.(cols)],还可以在列上使用函数\n",
    "inst[,length(unique(rna_plate))]\n",
    "# 在data.table包里面是list()的别称\n",
    "inst[,.(n_cell=length(unique(rna_plate)),n_plate=length(unique(rna_plate)))]"
   ]
  },
  {
   "cell_type": "markdown",
   "metadata": {},
   "source": [
    "### 3. group: by方法"
   ]
  },
  {
   "cell_type": "markdown",
   "metadata": {},
   "source": [
    "接下来开始慢慢接触data.table非常有用的一部分了"
   ]
  },
  {
   "cell_type": "code",
   "execution_count": 22,
   "metadata": {},
   "outputs": [
    {
     "data": {
      "text/html": [
       "<table>\n",
       "<thead><tr><th scope=col>rna_plate</th><th scope=col>unique_cell_per_plate</th></tr></thead>\n",
       "<tbody>\n",
       "\t<tr><td>ASG001_MCF7_24H_X1</td><td>1                 </td></tr>\n",
       "\t<tr><td>ASG001_MCF7_6H_X2 </td><td>1                 </td></tr>\n",
       "\t<tr><td>ASG001_PC3_24H_X2 </td><td>1                 </td></tr>\n",
       "\t<tr><td>ASG001_PC3_24H_X4 </td><td>1                 </td></tr>\n",
       "\t<tr><td>ASG001_PC3_24H_X5 </td><td>1                 </td></tr>\n",
       "\t<tr><td>ASG001_PC3_6H_X3  </td><td>1                 </td></tr>\n",
       "</tbody>\n",
       "</table>\n"
      ],
      "text/latex": [
       "\\begin{tabular}{r|ll}\n",
       " rna\\_plate & unique\\_cell\\_per\\_plate\\\\\n",
       "\\hline\n",
       "\t ASG001\\_MCF7\\_24H\\_X1 & 1                       \\\\\n",
       "\t ASG001\\_MCF7\\_6H\\_X2  & 1                       \\\\\n",
       "\t ASG001\\_PC3\\_24H\\_X2  & 1                       \\\\\n",
       "\t ASG001\\_PC3\\_24H\\_X4  & 1                       \\\\\n",
       "\t ASG001\\_PC3\\_24H\\_X5  & 1                       \\\\\n",
       "\t ASG001\\_PC3\\_6H\\_X3   & 1                       \\\\\n",
       "\\end{tabular}\n"
      ],
      "text/markdown": [
       "\n",
       "rna_plate | unique_cell_per_plate | \n",
       "|---|---|---|---|---|---|\n",
       "| ASG001_MCF7_24H_X1 | 1                  | \n",
       "| ASG001_MCF7_6H_X2  | 1                  | \n",
       "| ASG001_PC3_24H_X2  | 1                  | \n",
       "| ASG001_PC3_24H_X4  | 1                  | \n",
       "| ASG001_PC3_24H_X5  | 1                  | \n",
       "| ASG001_PC3_6H_X3   | 1                  | \n",
       "\n",
       "\n"
      ],
      "text/plain": [
       "  rna_plate          unique_cell_per_plate\n",
       "1 ASG001_MCF7_24H_X1 1                    \n",
       "2 ASG001_MCF7_6H_X2  1                    \n",
       "3 ASG001_PC3_24H_X2  1                    \n",
       "4 ASG001_PC3_24H_X4  1                    \n",
       "5 ASG001_PC3_24H_X5  1                    \n",
       "6 ASG001_PC3_6H_X3   1                    "
      ]
     },
     "metadata": {},
     "output_type": "display_data"
    },
    {
     "data": {
      "text/html": [
       "<table>\n",
       "<thead><tr><th scope=col>rna_plate</th><th scope=col>N</th><th scope=col>unique_cell_per_plate</th></tr></thead>\n",
       "<tbody>\n",
       "\t<tr><td>ASG001_MCF7_24H_X1</td><td>341               </td><td>1                 </td></tr>\n",
       "\t<tr><td>ASG001_MCF7_6H_X2 </td><td>351               </td><td>1                 </td></tr>\n",
       "\t<tr><td>ASG001_PC3_24H_X2 </td><td>350               </td><td>1                 </td></tr>\n",
       "\t<tr><td>ASG001_PC3_24H_X4 </td><td>358               </td><td>1                 </td></tr>\n",
       "\t<tr><td>ASG001_PC3_24H_X5 </td><td>358               </td><td>1                 </td></tr>\n",
       "\t<tr><td>ASG001_PC3_6H_X3  </td><td>339               </td><td>1                 </td></tr>\n",
       "</tbody>\n",
       "</table>\n"
      ],
      "text/latex": [
       "\\begin{tabular}{r|lll}\n",
       " rna\\_plate & N & unique\\_cell\\_per\\_plate\\\\\n",
       "\\hline\n",
       "\t ASG001\\_MCF7\\_24H\\_X1 & 341                      & 1                       \\\\\n",
       "\t ASG001\\_MCF7\\_6H\\_X2  & 351                      & 1                       \\\\\n",
       "\t ASG001\\_PC3\\_24H\\_X2  & 350                      & 1                       \\\\\n",
       "\t ASG001\\_PC3\\_24H\\_X4  & 358                      & 1                       \\\\\n",
       "\t ASG001\\_PC3\\_24H\\_X5  & 358                      & 1                       \\\\\n",
       "\t ASG001\\_PC3\\_6H\\_X3   & 339                      & 1                       \\\\\n",
       "\\end{tabular}\n"
      ],
      "text/markdown": [
       "\n",
       "rna_plate | N | unique_cell_per_plate | \n",
       "|---|---|---|---|---|---|\n",
       "| ASG001_MCF7_24H_X1 | 341                | 1                  | \n",
       "| ASG001_MCF7_6H_X2  | 351                | 1                  | \n",
       "| ASG001_PC3_24H_X2  | 350                | 1                  | \n",
       "| ASG001_PC3_24H_X4  | 358                | 1                  | \n",
       "| ASG001_PC3_24H_X5  | 358                | 1                  | \n",
       "| ASG001_PC3_6H_X3   | 339                | 1                  | \n",
       "\n",
       "\n"
      ],
      "text/plain": [
       "  rna_plate          N   unique_cell_per_plate\n",
       "1 ASG001_MCF7_24H_X1 341 1                    \n",
       "2 ASG001_MCF7_6H_X2  351 1                    \n",
       "3 ASG001_PC3_24H_X2  350 1                    \n",
       "4 ASG001_PC3_24H_X4  358 1                    \n",
       "5 ASG001_PC3_24H_X5  358 1                    \n",
       "6 ASG001_PC3_6H_X3   339 1                    "
      ]
     },
     "metadata": {},
     "output_type": "display_data"
    }
   ],
   "source": [
    "# dt[i,j,by=]中的by可以进行分组计算，大概相当于tapply或者是split之后进行运算，但是真的比tapply和split好用很多,因为返回data.table，\n",
    "# 因此j必须用.()\n",
    "inst_1<-inst[,.(unique_cell_per_plate=length(unique(rna_plate))),by=rna_plate]\n",
    "head(inst_1)\n",
    "# .N可以用来计数：每组的个数\n",
    "inst_2<-inst[,.(.N,unique_cell_per_plate=length(unique(rna_plate))),by=rna_plate]\n",
    "head(inst_2)"
   ]
  },
  {
   "cell_type": "code",
   "execution_count": null,
   "metadata": {
    "collapsed": true
   },
   "outputs": [],
   "source": []
  }
 ],
 "metadata": {
  "kernelspec": {
   "display_name": "R",
   "language": "R",
   "name": "ir"
  },
  "language_info": {
   "codemirror_mode": "r",
   "file_extension": ".r",
   "mimetype": "text/x-r-source",
   "name": "R",
   "pygments_lexer": "r",
   "version": "3.3.3"
  }
 },
 "nbformat": 4,
 "nbformat_minor": 2
}
